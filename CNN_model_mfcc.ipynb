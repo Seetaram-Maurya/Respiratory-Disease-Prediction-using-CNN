{
  "cells": [
    {
      "cell_type": "code",
      "execution_count": null,
      "id": "00ec600b",
      "metadata": {
        "id": "00ec600b"
      },
      "outputs": [],
      "source": [
        "from os import listdir\n",
        "import matplotlib.pyplot as plt\n",
        "import numpy as np\n",
        "from sklearn import preprocessing\n",
        "from sklearn.model_selection import train_test_split\n",
        "import matplotlib.pyplot as plt\n",
        "import tqdm\n",
        "import tensorflow as tf\n",
        "from tensorflow.keras.models import Sequential, Model\n",
        "from tensorflow.keras import regularizers, optimizers\n",
        "from tensorflow.keras.layers import Dense, Conv2D, Flatten, Activation, MaxPooling2D, Dropout, Input, BatchNormalization\n",
        "from tensorflow.keras.utils import plot_model,to_categorical\n",
        "from glob import glob"
      ]
    },
    {
      "cell_type": "code",
      "source": [
        "from google.colab import drive\n",
        "drive.mount('/content/drive')"
      ],
      "metadata": {
        "colab": {
          "base_uri": "https://localhost:8080/"
        },
        "id": "7P6Lt6mjpGc0",
        "outputId": "a7c1e5bb-7d4b-44ac-d0d8-110481b9588e"
      },
      "id": "7P6Lt6mjpGc0",
      "execution_count": null,
      "outputs": [
        {
          "output_type": "stream",
          "name": "stdout",
          "text": [
            "Mounted at /content/drive\n"
          ]
        }
      ]
    },
    {
      "cell_type": "code",
      "execution_count": null,
      "id": "c2ccbbe5",
      "metadata": {
        "id": "c2ccbbe5"
      },
      "outputs": [],
      "source": [
        "spec_path = '/content/drive/MyDrive/sagi/thesis/features/spectrograms/'\n",
        "mfcc_path = '/content/drive/MyDrive/sagi/thesis/features/mfcc/'\n",
        "label_path = '/content/drive/MyDrive/sagi/thesis/features/labels/'"
      ]
    },
    {
      "cell_type": "code",
      "execution_count": null,
      "id": "ae3f4101",
      "metadata": {
        "id": "ae3f4101"
      },
      "outputs": [],
      "source": [
        "spec_files =sorted(glob(spec_path+'*.npy'))\n",
        "mfcc_files = sorted(glob(mfcc_path+'*.npy'))\n",
        "label_files = sorted(glob(label_path+'*.npy'))"
      ]
    },
    {
      "cell_type": "code",
      "execution_count": null,
      "id": "c7c7876d",
      "metadata": {
        "id": "c7c7876d"
      },
      "outputs": [],
      "source": [
        "def load_data(path):\n",
        "    lst = listdir(path)\n",
        "    x = []\n",
        "    for i in tqdm.tqdm(range(len(lst))):\n",
        "        x.append(np.load(path+lst[i]))\n",
        "    return x"
      ]
    },
    {
      "cell_type": "code",
      "source": [
        "# spec_dataset = load_data(spec_path)"
      ],
      "metadata": {
        "id": "-7BrZX8Cp0RY"
      },
      "id": "-7BrZX8Cp0RY",
      "execution_count": null,
      "outputs": []
    },
    {
      "cell_type": "code",
      "source": [
        "mfcc_dataset = load_data(mfcc_path)"
      ],
      "metadata": {
        "colab": {
          "base_uri": "https://localhost:8080/"
        },
        "id": "JalIqJExqBW1",
        "outputId": "cc1107ae-5a40-48d0-a62f-5677cd4c653a"
      },
      "id": "JalIqJExqBW1",
      "execution_count": null,
      "outputs": [
        {
          "output_type": "stream",
          "name": "stderr",
          "text": [
            "100%|██████████| 909/909 [00:10<00:00, 86.51it/s] \n"
          ]
        }
      ]
    },
    {
      "cell_type": "code",
      "source": [
        "label_dataset = load_data(label_path)"
      ],
      "metadata": {
        "colab": {
          "base_uri": "https://localhost:8080/"
        },
        "id": "aTvDQaqAqB8k",
        "outputId": "2878525d-defe-445b-864f-e1018efa5add"
      },
      "id": "aTvDQaqAqB8k",
      "execution_count": null,
      "outputs": [
        {
          "output_type": "stream",
          "name": "stderr",
          "text": [
            "100%|██████████| 910/910 [00:07<00:00, 116.54it/s]\n"
          ]
        }
      ]
    },
    {
      "cell_type": "code",
      "execution_count": null,
      "id": "6b47bcdf",
      "metadata": {
        "id": "6b47bcdf"
      },
      "outputs": [],
      "source": [
        "def encode_labels(dis_list):\n",
        "    le = preprocessing.LabelEncoder()\n",
        "    le.fit(dis_list)\n",
        "    dis_list_idx = le.transform(dis_list)\n",
        "    return dis_list_idx"
      ]
    },
    {
      "cell_type": "code",
      "execution_count": null,
      "id": "a3697d28",
      "metadata": {
        "id": "a3697d28"
      },
      "outputs": [],
      "source": [
        "gt_cat = encode_labels(label_dataset)"
      ]
    },
    {
      "cell_type": "code",
      "source": [
        "for i in range(8):\n",
        "  print(np.where(gt_cat==i)[0].shape)"
      ],
      "metadata": {
        "colab": {
          "base_uri": "https://localhost:8080/"
        },
        "id": "6xevvtfMmLm4",
        "outputId": "27abfcdc-5219-4890-aa44-8da3a3ece522"
      },
      "id": "6xevvtfMmLm4",
      "execution_count": null,
      "outputs": [
        {
          "output_type": "stream",
          "name": "stdout",
          "text": [
            "(1,)\n",
            "(16,)\n",
            "(13,)\n",
            "(783,)\n",
            "(35,)\n",
            "(2,)\n",
            "(37,)\n",
            "(23,)\n"
          ]
        }
      ]
    },
    {
      "cell_type": "code",
      "source": [
        "np.where(gt_cat==5)[0]"
      ],
      "metadata": {
        "colab": {
          "base_uri": "https://localhost:8080/"
        },
        "id": "pRfi3xL9pRdz",
        "outputId": "c3feb3b5-14ff-4f59-891a-307d75fed9a1"
      },
      "id": "pRfi3xL9pRdz",
      "execution_count": null,
      "outputs": [
        {
          "output_type": "execute_result",
          "data": {
            "text/plain": [
              "array([857, 872])"
            ]
          },
          "metadata": {},
          "execution_count": 17
        }
      ]
    },
    {
      "cell_type": "code",
      "source": [
        "plt.hist(gt_cat, bins=6)"
      ],
      "metadata": {
        "colab": {
          "base_uri": "https://localhost:8080/",
          "height": 334
        },
        "id": "XhaoCJJqlZxn",
        "outputId": "75d5ce8e-99d8-4af0-ff38-27d588e4fe72"
      },
      "id": "XhaoCJJqlZxn",
      "execution_count": null,
      "outputs": [
        {
          "output_type": "execute_result",
          "data": {
            "text/plain": [
              "(array([ 17.,  13., 783.,  35.,   2.,  60.]),\n",
              " array([0.        , 1.16666667, 2.33333333, 3.5       , 4.66666667,\n",
              "        5.83333333, 7.        ]),\n",
              " <BarContainer object of 6 artists>)"
            ]
          },
          "metadata": {},
          "execution_count": 18
        },
        {
          "output_type": "display_data",
          "data": {
            "text/plain": [
              "<Figure size 432x288 with 1 Axes>"
            ],
            "image/png": "[encoded data removed]"
          },
          "metadata": {
            "needs_background": "light"
          }
        }
      ]
    },
    {
      "cell_type": "code",
      "source": [
        "# spec_dataset = np.delete(spec_dataset, np.where((gt_cat == 0) | (gt_cat == 5))[0], axis=0)\n",
        "mfcc_dataset = np.delete(mfcc_dataset, np.where((gt_cat == 0) | (gt_cat == 5))[0], axis=0)\n",
        "gt_cat = np.delete(gt_cat, np.where((gt_cat == 0) | (gt_cat == 5))[0], axis=0)"
      ],
      "metadata": {
        "id": "tkVAi6suo36P"
      },
      "id": "tkVAi6suo36P",
      "execution_count": null,
      "outputs": []
    },
    {
      "cell_type": "code",
      "source": [
        "for i in range(8):\n",
        "  print(np.where(gt_cat==i)[0].shape)"
      ],
      "metadata": {
        "colab": {
          "base_uri": "https://localhost:8080/"
        },
        "id": "10-li-MbDlnJ",
        "outputId": "03ebfa40-a3a9-4552-da74-6ac6fa7b2873"
      },
      "id": "10-li-MbDlnJ",
      "execution_count": null,
      "outputs": [
        {
          "output_type": "stream",
          "name": "stdout",
          "text": [
            "(0,)\n",
            "(16,)\n",
            "(13,)\n",
            "(783,)\n",
            "(35,)\n",
            "(0,)\n",
            "(37,)\n",
            "(23,)\n"
          ]
        }
      ]
    },
    {
      "cell_type": "code",
      "source": [
        "# spec_dataset.shape, mfcc_dataset.shape, gt_cat.shape"
      ],
      "metadata": {
        "id": "PXlKY1ezp7Ik"
      },
      "id": "PXlKY1ezp7Ik",
      "execution_count": null,
      "outputs": []
    },
    {
      "cell_type": "code",
      "source": [
        "import pandas as pd\n",
        "s = pd.Series(list(gt_cat))\n",
        "gt_list = pd.get_dummies(s)"
      ],
      "metadata": {
        "id": "zilB7uF_tTmn"
      },
      "id": "zilB7uF_tTmn",
      "execution_count": null,
      "outputs": []
    },
    {
      "cell_type": "code",
      "source": [
        "gt_list = np.array((np.asarray(gt_list)))"
      ],
      "metadata": {
        "id": "9l8mJ5zRtlUA"
      },
      "id": "9l8mJ5zRtlUA",
      "execution_count": null,
      "outputs": []
    },
    {
      "cell_type": "code",
      "execution_count": null,
      "id": "835ef9d3",
      "metadata": {
        "id": "835ef9d3"
      },
      "outputs": [],
      "source": [
        "# gt_list = to_categorical(gt_cat, num_classes = 6)"
      ]
    },
    {
      "cell_type": "code",
      "source": [
        "# Split the data\n",
        "x_train, x_test, y_train, y_test = train_test_split(mfcc_dataset, gt_list[:-1], test_size=0.20, shuffle= True)"
      ],
      "metadata": {
        "id": "qJD4g66jrMmf"
      },
      "id": "qJD4g66jrMmf",
      "execution_count": null,
      "outputs": []
    },
    {
      "cell_type": "code",
      "source": [
        "np.shape(x_train)"
      ],
      "metadata": {
        "colab": {
          "base_uri": "https://localhost:8080/"
        },
        "id": "qSwXZOW2swxv",
        "outputId": "2b3d3b01-1aa4-4234-a341-888d1d1658eb"
      },
      "id": "qSwXZOW2swxv",
      "execution_count": null,
      "outputs": [
        {
          "output_type": "execute_result",
          "data": {
            "text/plain": [
              "(724, 40, 646)"
            ]
          },
          "metadata": {},
          "execution_count": 27
        }
      ]
    },
    {
      "cell_type": "code",
      "execution_count": null,
      "id": "e48c0daf",
      "metadata": {
        "id": "e48c0daf"
      },
      "outputs": [],
      "source": [
        "# def normalizeXX(eg_array):\n",
        "#     normed = (eg_array - eg_array.mean(axis=0)) / eg_array.std(axis=0)\n",
        "#     return normed"
      ]
    },
    {
      "cell_type": "code",
      "execution_count": null,
      "id": "22c75cc4",
      "metadata": {
        "id": "22c75cc4"
      },
      "outputs": [],
      "source": [
        "epochs = 50\n",
        "num_classes = 6\n",
        "batches = 64"
      ]
    },
    {
      "cell_type": "code",
      "source": [
        "# y_train = np.expand_dims(y_train, axis = 0)\n",
        "# y_test = np.expand_dims(y_test, axis = 0)"
      ],
      "metadata": {
        "id": "GZhJ0EV-Bvwr"
      },
      "id": "GZhJ0EV-Bvwr",
      "execution_count": null,
      "outputs": []
    },
    {
      "cell_type": "code",
      "execution_count": null,
      "id": "f1e53eea",
      "metadata": {
        "colab": {
          "base_uri": "https://localhost:8080/"
        },
        "id": "f1e53eea",
        "outputId": "28fff131-49bd-4e0d-872b-9d92e20bd61f"
      },
      "outputs": [
        {
          "output_type": "stream",
          "name": "stdout",
          "text": [
            "Model: \"model\"\n",
            "_________________________________________________________________\n",
            " Layer (type)                Output Shape              Param #   \n",
            "=================================================================\n",
            " input_1 (InputLayer)        [(None, 40, 646, 1)]      0         \n",
            "                                                                 \n",
            " conv2d (Conv2D)             (None, 40, 646, 16)       160       \n",
            "                                                                 \n",
            " batch_normalization (BatchN  (None, 40, 646, 16)      64        \n",
            " ormalization)                                                   \n",
            "                                                                 \n",
            " activation (Activation)     (None, 40, 646, 16)       0         \n",
            "                                                                 \n",
            " max_pooling2d (MaxPooling2D  (None, 20, 646, 16)      0         \n",
            " )                                                               \n",
            "                                                                 \n",
            " conv2d_1 (Conv2D)           (None, 20, 646, 32)       4640      \n",
            "                                                                 \n",
            " batch_normalization_1 (Batc  (None, 20, 646, 32)      128       \n",
            " hNormalization)                                                 \n",
            "                                                                 \n",
            " activation_1 (Activation)   (None, 20, 646, 32)       0         \n",
            "                                                                 \n",
            " max_pooling2d_1 (MaxPooling  (None, 10, 646, 32)      0         \n",
            " 2D)                                                             \n",
            "                                                                 \n",
            " flatten (Flatten)           (None, 206720)            0         \n",
            "                                                                 \n",
            " dense (Dense)               (None, 6)                 1240326   \n",
            "                                                                 \n",
            "=================================================================\n",
            "Total params: 1,245,318\n",
            "Trainable params: 1,245,222\n",
            "Non-trainable params: 96\n",
            "_________________________________________________________________\n",
            "None\n"
          ]
        }
      ],
      "source": [
        "visible = Input(shape=(40, 646,1))\n",
        "conv1 = Conv2D(16, kernel_size=(3,3), padding = 'same')(visible)\n",
        "conv1 = BatchNormalization()(conv1)\n",
        "conv1 = Activation('relu')(conv1)\n",
        "pool1 = MaxPooling2D(pool_size=(2, 1))(conv1)\n",
        "conv2 = Conv2D(32, kernel_size=(3,3), activation='relu', padding = 'same')(pool1)\n",
        "conv2 = BatchNormalization()(conv2)\n",
        "conv2 = Activation('relu')(conv2)\n",
        "pool2 = MaxPooling2D(pool_size=(2, 1))(conv2)\n",
        "\n",
        "pool3 = Flatten()(pool2)\n",
        "\n",
        "# pool3 = Dense(64, activation='relu')(pool3)\n",
        "output = Dense(num_classes, activation='softmax')(pool3)\n",
        "model = Model(inputs=visible, outputs=output)\n",
        "\n",
        "\n",
        "print(model.summary())\n"
      ]
    },
    {
      "cell_type": "code",
      "source": [
        "y_train[0]"
      ],
      "metadata": {
        "colab": {
          "base_uri": "https://localhost:8080/"
        },
        "id": "VoPNKnLnrUDG",
        "outputId": "7e1f4984-a73a-4da6-8eef-7fe7c66d5200"
      },
      "id": "VoPNKnLnrUDG",
      "execution_count": null,
      "outputs": [
        {
          "output_type": "execute_result",
          "data": {
            "text/plain": [
              "array([0, 0, 1, 0, 0, 0], dtype=uint8)"
            ]
          },
          "metadata": {},
          "execution_count": 27
        }
      ]
    },
    {
      "cell_type": "code",
      "execution_count": null,
      "id": "f2e54f4e",
      "metadata": {
        "id": "f2e54f4e"
      },
      "outputs": [],
      "source": [
        "model.compile(loss='categorical_crossentropy', optimizer='adam', metrics=['accuracy'])"
      ]
    },
    {
      "cell_type": "code",
      "source": [
        "history=model.fit(x=tf.convert_to_tensor(np.float32(x_train)), y=tf.convert_to_tensor(np.float32(y_train)), validation_split = 0.10, batch_size=batches, epochs=epochs)"
      ],
      "metadata": {
        "colab": {
          "base_uri": "https://localhost:8080/"
        },
        "id": "vFi2f-7Rq_3O",
        "outputId": "cae63fa1-d776-47c4-9a10-769323de0e5d"
      },
      "id": "vFi2f-7Rq_3O",
      "execution_count": null,
      "outputs": [
        {
          "output_type": "stream",
          "name": "stdout",
          "text": [
            "Epoch 1/50\n",
            "11/11 [==============================] - 4s 72ms/step - loss: 33.3441 - accuracy: 0.6406 - val_loss: 55.3838 - val_accuracy: 0.9178\n",
            "Epoch 2/50\n",
            "11/11 [==============================] - 0s 44ms/step - loss: 33.6082 - accuracy: 0.8648 - val_loss: 28.5505 - val_accuracy: 0.9178\n",
            "Epoch 3/50\n",
            "11/11 [==============================] - 0s 44ms/step - loss: 9.3840 - accuracy: 0.7711 - val_loss: 16.5387 - val_accuracy: 0.9178\n",
            "Epoch 4/50\n",
            "11/11 [==============================] - 1s 51ms/step - loss: 5.4276 - accuracy: 0.8310 - val_loss: 7.6409 - val_accuracy: 0.9178\n",
            "Epoch 5/50\n",
            "11/11 [==============================] - 1s 46ms/step - loss: 2.6512 - accuracy: 0.8694 - val_loss: 6.4371 - val_accuracy: 0.8630\n",
            "Epoch 6/50\n",
            "11/11 [==============================] - 0s 44ms/step - loss: 0.7784 - accuracy: 0.9063 - val_loss: 5.9155 - val_accuracy: 0.9178\n",
            "Epoch 7/50\n",
            "11/11 [==============================] - 0s 45ms/step - loss: 0.2988 - accuracy: 0.9416 - val_loss: 5.2993 - val_accuracy: 0.9041\n",
            "Epoch 8/50\n",
            "11/11 [==============================] - 0s 44ms/step - loss: 0.1178 - accuracy: 0.9708 - val_loss: 4.4216 - val_accuracy: 0.8767\n",
            "Epoch 9/50\n",
            "11/11 [==============================] - 0s 45ms/step - loss: 0.0699 - accuracy: 0.9816 - val_loss: 3.3593 - val_accuracy: 0.8767\n",
            "Epoch 10/50\n",
            "11/11 [==============================] - 0s 44ms/step - loss: 0.0958 - accuracy: 0.9816 - val_loss: 3.5639 - val_accuracy: 0.8904\n",
            "Epoch 11/50\n",
            "11/11 [==============================] - 0s 44ms/step - loss: 0.0115 - accuracy: 0.9969 - val_loss: 3.5523 - val_accuracy: 0.9041\n",
            "Epoch 12/50\n",
            "11/11 [==============================] - 0s 44ms/step - loss: 0.0218 - accuracy: 0.9923 - val_loss: 3.1150 - val_accuracy: 0.9041\n",
            "Epoch 13/50\n",
            "11/11 [==============================] - 0s 44ms/step - loss: 0.0244 - accuracy: 0.9862 - val_loss: 3.0417 - val_accuracy: 0.9041\n",
            "Epoch 14/50\n",
            "11/11 [==============================] - 0s 45ms/step - loss: 0.2464 - accuracy: 0.9677 - val_loss: 3.2681 - val_accuracy: 0.9178\n",
            "Epoch 15/50\n",
            "11/11 [==============================] - 0s 44ms/step - loss: 0.0262 - accuracy: 0.9908 - val_loss: 1.7678 - val_accuracy: 0.7945\n",
            "Epoch 16/50\n",
            "11/11 [==============================] - 0s 45ms/step - loss: 0.0119 - accuracy: 0.9954 - val_loss: 2.8216 - val_accuracy: 0.9041\n",
            "Epoch 17/50\n",
            "11/11 [==============================] - 0s 45ms/step - loss: 0.0193 - accuracy: 0.9969 - val_loss: 2.0587 - val_accuracy: 0.8767\n",
            "Epoch 18/50\n",
            "11/11 [==============================] - 0s 45ms/step - loss: 7.4201e-06 - accuracy: 1.0000 - val_loss: 1.8645 - val_accuracy: 0.9041\n",
            "Epoch 19/50\n",
            "11/11 [==============================] - 0s 44ms/step - loss: 1.0236e-04 - accuracy: 1.0000 - val_loss: 1.7582 - val_accuracy: 0.9041\n",
            "Epoch 20/50\n",
            "11/11 [==============================] - 0s 44ms/step - loss: 3.8810e-04 - accuracy: 1.0000 - val_loss: 1.5465 - val_accuracy: 0.8904\n",
            "Epoch 21/50\n",
            "11/11 [==============================] - 0s 45ms/step - loss: 6.1230e-06 - accuracy: 1.0000 - val_loss: 1.4573 - val_accuracy: 0.8904\n",
            "Epoch 22/50\n",
            "11/11 [==============================] - 1s 46ms/step - loss: 1.4581e-05 - accuracy: 1.0000 - val_loss: 1.4098 - val_accuracy: 0.8767\n",
            "Epoch 23/50\n",
            "11/11 [==============================] - 0s 45ms/step - loss: 9.0704e-06 - accuracy: 1.0000 - val_loss: 1.3716 - val_accuracy: 0.8767\n",
            "Epoch 24/50\n",
            "11/11 [==============================] - 0s 45ms/step - loss: 8.3692e-06 - accuracy: 1.0000 - val_loss: 1.3471 - val_accuracy: 0.8767\n",
            "Epoch 25/50\n",
            "11/11 [==============================] - 0s 44ms/step - loss: 1.2227e-05 - accuracy: 1.0000 - val_loss: 1.3275 - val_accuracy: 0.8904\n",
            "Epoch 26/50\n",
            "11/11 [==============================] - 0s 45ms/step - loss: 7.9084e-06 - accuracy: 1.0000 - val_loss: 1.3112 - val_accuracy: 0.8767\n",
            "Epoch 27/50\n",
            "11/11 [==============================] - 0s 44ms/step - loss: 6.4030e-06 - accuracy: 1.0000 - val_loss: 1.2988 - val_accuracy: 0.8767\n",
            "Epoch 28/50\n",
            "11/11 [==============================] - 0s 45ms/step - loss: 6.4442e-06 - accuracy: 1.0000 - val_loss: 1.2862 - val_accuracy: 0.8767\n",
            "Epoch 29/50\n",
            "11/11 [==============================] - 0s 45ms/step - loss: 6.1731e-06 - accuracy: 1.0000 - val_loss: 1.2745 - val_accuracy: 0.8767\n",
            "Epoch 30/50\n",
            "11/11 [==============================] - 0s 44ms/step - loss: 7.1557e-06 - accuracy: 1.0000 - val_loss: 1.2643 - val_accuracy: 0.8630\n",
            "Epoch 31/50\n",
            "11/11 [==============================] - 0s 44ms/step - loss: 5.7437e-06 - accuracy: 1.0000 - val_loss: 1.2556 - val_accuracy: 0.8630\n",
            "Epoch 32/50\n",
            "11/11 [==============================] - 0s 44ms/step - loss: 7.5072e-06 - accuracy: 1.0000 - val_loss: 1.2431 - val_accuracy: 0.8630\n",
            "Epoch 33/50\n",
            "11/11 [==============================] - 0s 45ms/step - loss: 5.5008e-06 - accuracy: 1.0000 - val_loss: 1.2327 - val_accuracy: 0.8630\n",
            "Epoch 34/50\n",
            "11/11 [==============================] - 1s 47ms/step - loss: 4.7838e-06 - accuracy: 1.0000 - val_loss: 1.2225 - val_accuracy: 0.8630\n",
            "Epoch 35/50\n",
            "11/11 [==============================] - 1s 47ms/step - loss: 4.1965e-06 - accuracy: 1.0000 - val_loss: 1.2115 - val_accuracy: 0.8767\n",
            "Epoch 36/50\n",
            "11/11 [==============================] - 1s 48ms/step - loss: 5.1336e-06 - accuracy: 1.0000 - val_loss: 1.2004 - val_accuracy: 0.8767\n",
            "Epoch 37/50\n",
            "11/11 [==============================] - 1s 47ms/step - loss: 5.0087e-06 - accuracy: 1.0000 - val_loss: 1.1921 - val_accuracy: 0.8767\n",
            "Epoch 38/50\n",
            "11/11 [==============================] - 1s 46ms/step - loss: 4.7130e-06 - accuracy: 1.0000 - val_loss: 1.1839 - val_accuracy: 0.8767\n",
            "Epoch 39/50\n",
            "11/11 [==============================] - 1s 48ms/step - loss: 4.9278e-06 - accuracy: 1.0000 - val_loss: 1.1790 - val_accuracy: 0.8767\n",
            "Epoch 40/50\n",
            "11/11 [==============================] - 1s 49ms/step - loss: 3.6056e-06 - accuracy: 1.0000 - val_loss: 1.1730 - val_accuracy: 0.8767\n",
            "Epoch 41/50\n",
            "11/11 [==============================] - 0s 45ms/step - loss: 7.4846e-06 - accuracy: 1.0000 - val_loss: 1.1680 - val_accuracy: 0.8904\n",
            "Epoch 42/50\n",
            "11/11 [==============================] - 0s 44ms/step - loss: 3.0996e-06 - accuracy: 1.0000 - val_loss: 1.1657 - val_accuracy: 0.8904\n",
            "Epoch 43/50\n",
            "11/11 [==============================] - 0s 44ms/step - loss: 3.2022e-06 - accuracy: 1.0000 - val_loss: 1.1654 - val_accuracy: 0.8904\n",
            "Epoch 44/50\n",
            "11/11 [==============================] - 0s 44ms/step - loss: 3.2931e-06 - accuracy: 1.0000 - val_loss: 1.1654 - val_accuracy: 0.8904\n",
            "Epoch 45/50\n",
            "11/11 [==============================] - 0s 45ms/step - loss: 3.3863e-06 - accuracy: 1.0000 - val_loss: 1.1683 - val_accuracy: 0.8904\n",
            "Epoch 46/50\n",
            "11/11 [==============================] - 0s 45ms/step - loss: 4.1803e-06 - accuracy: 1.0000 - val_loss: 1.1717 - val_accuracy: 0.8904\n",
            "Epoch 47/50\n",
            "11/11 [==============================] - 0s 45ms/step - loss: 3.2590e-06 - accuracy: 1.0000 - val_loss: 1.1775 - val_accuracy: 0.8904\n",
            "Epoch 48/50\n",
            "11/11 [==============================] - 0s 44ms/step - loss: 3.4812e-06 - accuracy: 1.0000 - val_loss: 1.1838 - val_accuracy: 0.8904\n",
            "Epoch 49/50\n",
            "11/11 [==============================] - 0s 44ms/step - loss: 3.0782e-06 - accuracy: 1.0000 - val_loss: 1.1914 - val_accuracy: 0.9041\n",
            "Epoch 50/50\n",
            "11/11 [==============================] - 0s 44ms/step - loss: 3.8227e-06 - accuracy: 1.0000 - val_loss: 1.1985 - val_accuracy: 0.9041\n"
          ]
        }
      ]
    },
    {
      "cell_type": "code",
      "source": [
        "x_test.shape, y_test.shape"
      ],
      "metadata": {
        "colab": {
          "base_uri": "https://localhost:8080/"
        },
        "id": "5my2Kv6KCia5",
        "outputId": "08c5c3bb-463d-44ed-8d17-cd84cb9e5d71"
      },
      "id": "5my2Kv6KCia5",
      "execution_count": null,
      "outputs": [
        {
          "output_type": "execute_result",
          "data": {
            "text/plain": [
              "((182, 40, 646), (182, 6))"
            ]
          },
          "metadata": {},
          "execution_count": 30
        }
      ]
    },
    {
      "cell_type": "code",
      "execution_count": null,
      "id": "d3e1b432",
      "metadata": {
        "colab": {
          "base_uri": "https://localhost:8080/",
          "height": 405
        },
        "id": "d3e1b432",
        "outputId": "43f29b7a-282c-467e-8fa1-867e842d30a6"
      },
      "outputs": [
        {
          "output_type": "stream",
          "name": "stdout",
          "text": [
            "Accuracy: 84%\n",
            "Loss: 1.1385\n",
            "\n"
          ]
        },
        {
          "output_type": "execute_result",
          "data": {
            "text/plain": [
              "<matplotlib.legend.Legend at 0x7f1f4011bfa0>"
            ]
          },
          "metadata": {},
          "execution_count": 31
        },
        {
          "output_type": "display_data",
          "data": {
            "text/plain": [
              "<Figure size 1080x360 with 2 Axes>"
            ],
            "image/png": "[encoded data removed]"
          },
          "metadata": {
            "needs_background": "light"
          }
        }
      ],
      "source": [
        "score = model.evaluate(np.float32(x_test), np.float32(y_test), verbose=0)\n",
        "print('Accuracy: {0:.0%}'.format(score[1]/1))\n",
        "print(\"Loss: %.4f\\n\" % score[0])\n",
        "\n",
        "# Plot accuracy and loss graphs\n",
        "plt.figure(figsize = (15,5))\n",
        "plt.subplot(1,2,1)\n",
        "plt.title('Accuracy')\n",
        "plt.plot(history.history['accuracy'], label = 'training acc')\n",
        "plt.plot(history.history['val_accuracy'], label = 'validation acc')\n",
        "plt.legend()\n",
        "\n",
        "plt.subplot(1,2,2)\n",
        "plt.title('Loss')\n",
        "plt.plot(history.history['loss'], label = 'training loss')\n",
        "plt.plot(history.history['val_loss'], label = 'validation loss')\n",
        "plt.legend()"
      ]
    },
    {
      "cell_type": "code",
      "source": [
        "from sklearn.metrics import classification_report\n",
        "\n",
        "y_pred = model.predict(np.float32(x_test), verbose=1)\n",
        "y_pred_bool = np.argmax(np.float32(y_pred), axis=1)\n",
        "\n",
        "print(classification_report(np.argmax(np.float32(y_test),axis=1), y_pred_bool))"
      ],
      "metadata": {
        "colab": {
          "base_uri": "https://localhost:8080/"
        },
        "id": "GziNdKzRvoru",
        "outputId": "f250d0bd-c032-48f3-9d93-42cdaa56de83"
      },
      "id": "GziNdKzRvoru",
      "execution_count": null,
      "outputs": [
        {
          "output_type": "stream",
          "name": "stdout",
          "text": [
            "6/6 [==============================] - 0s 6ms/step\n",
            "              precision    recall  f1-score   support\n",
            "\n",
            "           0       0.00      0.00      0.00         1\n",
            "           1       0.00      0.00      0.00         1\n",
            "           2       0.87      0.98      0.92       153\n",
            "           3       0.00      0.00      0.00        10\n",
            "           4       0.40      0.25      0.31         8\n",
            "           5       0.33      0.11      0.17         9\n",
            "\n",
            "    accuracy                           0.84       182\n",
            "   macro avg       0.27      0.22      0.23       182\n",
            "weighted avg       0.77      0.84      0.80       182\n",
            "\n"
          ]
        },
        {
          "output_type": "stream",
          "name": "stderr",
          "text": [
            "/usr/local/lib/python3.8/dist-packages/sklearn/metrics/_classification.py:1318: UndefinedMetricWarning: Precision and F-score are ill-defined and being set to 0.0 in labels with no predicted samples. Use `zero_division` parameter to control this behavior.\n",
            "  _warn_prf(average, modifier, msg_start, len(result))\n",
            "/usr/local/lib/python3.8/dist-packages/sklearn/metrics/_classification.py:1318: UndefinedMetricWarning: Precision and F-score are ill-defined and being set to 0.0 in labels with no predicted samples. Use `zero_division` parameter to control this behavior.\n",
            "  _warn_prf(average, modifier, msg_start, len(result))\n",
            "/usr/local/lib/python3.8/dist-packages/sklearn/metrics/_classification.py:1318: UndefinedMetricWarning: Precision and F-score are ill-defined and being set to 0.0 in labels with no predicted samples. Use `zero_division` parameter to control this behavior.\n",
            "  _warn_prf(average, modifier, msg_start, len(result))\n"
          ]
        }
      ]
    },
    {
      "cell_type": "code",
      "source": [],
      "metadata": {
        "id": "MzRCV4vIxqCN"
      },
      "id": "MzRCV4vIxqCN",
      "execution_count": null,
      "outputs": []
    }
  ],
  "metadata": {
    "kernelspec": {
      "display_name": "Python 3 (ipykernel)",
      "language": "python",
      "name": "python3"
    },
    "language_info": {
      "codemirror_mode": {
        "name": "ipython",
        "version": 3
      },
      "file_extension": ".py",
      "mimetype": "text/x-python",
      "name": "python",
      "nbconvert_exporter": "python",
      "pygments_lexer": "ipython3",
      "version": "3.10.5"
    },
    "colab": {
      "provenance": []
    },
    "accelerator": "GPU",
    "gpuClass": "standard"
  },
  "nbformat": 4,
  "nbformat_minor": 5
}