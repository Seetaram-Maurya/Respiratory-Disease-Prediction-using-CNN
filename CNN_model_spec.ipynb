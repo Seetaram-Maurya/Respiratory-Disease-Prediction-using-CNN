{
  "cells": [
    {
      "cell_type": "code",
      "execution_count": null,
      "id": "00ec600b",
      "metadata": {
        "id": "00ec600b"
      },
      "outputs": [],
      "source": [
        "from os import listdir\n",
        "import matplotlib.pyplot as plt\n",
        "import numpy as np\n",
        "from sklearn import preprocessing\n",
        "from sklearn.model_selection import train_test_split\n",
        "import matplotlib.pyplot as plt\n",
        "import tqdm\n",
        "import tensorflow as tf\n",
        "from tensorflow.keras.models import Sequential, Model\n",
        "from tensorflow.keras import regularizers, optimizers\n",
        "from tensorflow.keras.layers import Dense, Conv2D, Flatten, Activation, MaxPooling2D, Dropout, Input, BatchNormalization\n",
        "from tensorflow.keras.utils import plot_model,to_categorical\n",
        "from glob import glob"
      ]
    },
    {
      "cell_type": "code",
      "source": [
        "from google.colab import drive\n",
        "drive.mount('/content/drive')"
      ],
      "metadata": {
        "colab": {
          "base_uri": "https://localhost:8080/"
        },
        "id": "7P6Lt6mjpGc0",
        "outputId": "051638f2-68b0-4feb-f538-dc061cc8f7ed"
      },
      "id": "7P6Lt6mjpGc0",
      "execution_count": null,
      "outputs": [
        {
          "output_type": "stream",
          "name": "stdout",
          "text": [
            "Mounted at /content/drive\n"
          ]
        }
      ]
    },
    {
      "cell_type": "code",
      "execution_count": null,
      "id": "c2ccbbe5",
      "metadata": {
        "id": "c2ccbbe5"
      },
      "outputs": [],
      "source": [
        "spec_path = '/content/drive/MyDrive/thesis/features/spectrograms/'\n",
        "mfcc_path = '/content/drive/MyDrive/thesis/features/mfcc/'\n",
        "label_path = '/content/drive/MyDrive/thesis/features/labels/'"
      ]
    },
    {
      "cell_type": "code",
      "execution_count": null,
      "id": "ae3f4101",
      "metadata": {
        "id": "ae3f4101"
      },
      "outputs": [],
      "source": [
        "spec_files =sorted(glob(spec_path+'*.npy'))\n",
        "mfcc_files = sorted(glob(mfcc_path+'*.npy'))\n",
        "label_files = sorted(glob(label_path+'*.npy'))"
      ]
    },
    {
      "cell_type": "code",
      "execution_count": null,
      "id": "c7c7876d",
      "metadata": {
        "id": "c7c7876d"
      },
      "outputs": [],
      "source": [
        "def load_data(path):\n",
        "    lst = listdir(path)\n",
        "    x = []\n",
        "    for i in tqdm.tqdm(range(len(lst))):\n",
        "        x.append(np.load(path+lst[i]))\n",
        "    return x"
      ]
    },
    {
      "cell_type": "code",
      "source": [
        "spec_dataset = load_data(spec_path)"
      ],
      "metadata": {
        "id": "-7BrZX8Cp0RY",
        "colab": {
          "base_uri": "https://localhost:8080/"
        },
        "outputId": "e3aa892b-a93c-4b57-8d12-1ca0d1e0fd2f"
      },
      "id": "-7BrZX8Cp0RY",
      "execution_count": null,
      "outputs": [
        {
          "output_type": "stream",
          "name": "stderr",
          "text": [
            "100%|██████████| 909/909 [00:43<00:00, 20.84it/s] \n"
          ]
        }
      ]
    },
    {
      "cell_type": "code",
      "source": [
        "# mfcc_dataset = load_data(mfcc_path)"
      ],
      "metadata": {
        "id": "JalIqJExqBW1"
      },
      "id": "JalIqJExqBW1",
      "execution_count": null,
      "outputs": []
    },
    {
      "cell_type": "code",
      "source": [
        "label_dataset = load_data(label_path)"
      ],
      "metadata": {
        "colab": {
          "base_uri": "https://localhost:8080/"
        },
        "id": "aTvDQaqAqB8k",
        "outputId": "bd4cb2f7-3744-4643-e3fa-f08cc038e950"
      },
      "id": "aTvDQaqAqB8k",
      "execution_count": null,
      "outputs": [
        {
          "output_type": "stream",
          "name": "stderr",
          "text": [
            "100%|██████████| 909/909 [00:17<00:00, 51.96it/s] \n"
          ]
        }
      ]
    },
    {
      "cell_type": "code",
      "execution_count": null,
      "id": "6b47bcdf",
      "metadata": {
        "id": "6b47bcdf"
      },
      "outputs": [],
      "source": [
        "def encode_labels(dis_list):\n",
        "    le = preprocessing.LabelEncoder()\n",
        "    le.fit(dis_list)\n",
        "    dis_list_idx = le.transform(dis_list)\n",
        "    return dis_list_idx"
      ]
    },
    {
      "cell_type": "code",
      "execution_count": null,
      "id": "a3697d28",
      "metadata": {
        "id": "a3697d28"
      },
      "outputs": [],
      "source": [
        "gt_cat = encode_labels(label_dataset)"
      ]
    },
    {
      "cell_type": "code",
      "source": [
        "for i in range(8):\n",
        "  print(np.where(gt_cat==i)[0].shape)"
      ],
      "metadata": {
        "colab": {
          "base_uri": "https://localhost:8080/"
        },
        "id": "6xevvtfMmLm4",
        "outputId": "8db0f4f8-bd47-4eef-e7d9-80d69a303be5"
      },
      "id": "6xevvtfMmLm4",
      "execution_count": null,
      "outputs": [
        {
          "output_type": "stream",
          "name": "stdout",
          "text": [
            "(1,)\n",
            "(16,)\n",
            "(13,)\n",
            "(782,)\n",
            "(35,)\n",
            "(2,)\n",
            "(37,)\n",
            "(23,)\n"
          ]
        }
      ]
    },
    {
      "cell_type": "code",
      "source": [
        "np.where(gt_cat==5)[0]"
      ],
      "metadata": {
        "colab": {
          "base_uri": "https://localhost:8080/"
        },
        "id": "pRfi3xL9pRdz",
        "outputId": "3678f065-ff40-4915-a6aa-eb2c6c452390"
      },
      "id": "pRfi3xL9pRdz",
      "execution_count": null,
      "outputs": [
        {
          "output_type": "execute_result",
          "data": {
            "text/plain": [
              "array([41, 68])"
            ]
          },
          "metadata": {},
          "execution_count": 12
        }
      ]
    },
    {
      "cell_type": "code",
      "source": [
        "plt.hist(gt_cat, bins=6)"
      ],
      "metadata": {
        "colab": {
          "base_uri": "https://localhost:8080/",
          "height": 334
        },
        "id": "XhaoCJJqlZxn",
        "outputId": "1c377d72-fed0-4b5a-938d-e795f9a4316e"
      },
      "id": "XhaoCJJqlZxn",
      "execution_count": null,
      "outputs": [
        {
          "output_type": "execute_result",
          "data": {
            "text/plain": [
              "(array([ 17.,  13., 782.,  35.,   2.,  60.]),\n",
              " array([0.        , 1.16666667, 2.33333333, 3.5       , 4.66666667,\n",
              "        5.83333333, 7.        ]),\n",
              " <a list of 6 Patch objects>)"
            ]
          },
          "metadata": {},
          "execution_count": 13
        },
        {
          "output_type": "display_data",
          "data": {
            "text/plain": [
              "<Figure size 432x288 with 1 Axes>"
            ],
            "image/png": "[encoded data removed]"
          },
          "metadata": {
            "needs_background": "light"
          }
        }
      ]
    },
    {
      "cell_type": "code",
      "source": [
        "spec_dataset = np.delete(spec_dataset, np.where((gt_cat == 0) | (gt_cat == 5))[0], axis=0)\n",
        "# mfcc_dataset = np.delete(mfcc_dataset, np.where((gt_cat == 0) | (gt_cat == 5))[0], axis=0)\n",
        "gt_cat = np.delete(gt_cat, np.where((gt_cat == 0) | (gt_cat == 5))[0], axis=0)"
      ],
      "metadata": {
        "id": "tkVAi6suo36P"
      },
      "id": "tkVAi6suo36P",
      "execution_count": null,
      "outputs": []
    },
    {
      "cell_type": "code",
      "source": [
        "for i in range(8):\n",
        "  print(np.where(gt_cat==i)[0].shape)"
      ],
      "metadata": {
        "colab": {
          "base_uri": "https://localhost:8080/"
        },
        "id": "10-li-MbDlnJ",
        "outputId": "069bc332-bfe3-414c-e759-7d683decc389"
      },
      "id": "10-li-MbDlnJ",
      "execution_count": null,
      "outputs": [
        {
          "output_type": "stream",
          "name": "stdout",
          "text": [
            "(0,)\n",
            "(16,)\n",
            "(13,)\n",
            "(782,)\n",
            "(35,)\n",
            "(0,)\n",
            "(37,)\n",
            "(23,)\n"
          ]
        }
      ]
    },
    {
      "cell_type": "code",
      "source": [
        "# spec_dataset.shape, mfcc_dataset.shape, gt_cat.shape"
      ],
      "metadata": {
        "id": "PXlKY1ezp7Ik"
      },
      "id": "PXlKY1ezp7Ik",
      "execution_count": null,
      "outputs": []
    },
    {
      "cell_type": "code",
      "source": [
        "import pandas as pd\n",
        "s = pd.Series(list(gt_cat))\n",
        "gt_list = pd.get_dummies(s)"
      ],
      "metadata": {
        "id": "zilB7uF_tTmn"
      },
      "id": "zilB7uF_tTmn",
      "execution_count": null,
      "outputs": []
    },
    {
      "cell_type": "code",
      "source": [
        "gt_list = np.array((np.asarray(gt_list)))"
      ],
      "metadata": {
        "id": "9l8mJ5zRtlUA"
      },
      "id": "9l8mJ5zRtlUA",
      "execution_count": null,
      "outputs": []
    },
    {
      "cell_type": "code",
      "execution_count": null,
      "id": "835ef9d3",
      "metadata": {
        "id": "835ef9d3"
      },
      "outputs": [],
      "source": [
        "# gt_list = to_categorical(gt_cat, num_classes = 6)"
      ]
    },
    {
      "cell_type": "code",
      "source": [
        "# Split the data\n",
        "x_train, x_test, y_train, y_test = train_test_split(spec_dataset, gt_list, test_size=0.20, shuffle= True)"
      ],
      "metadata": {
        "id": "qJD4g66jrMmf"
      },
      "id": "qJD4g66jrMmf",
      "execution_count": null,
      "outputs": []
    },
    {
      "cell_type": "code",
      "source": [
        "np.shape(x_train)"
      ],
      "metadata": {
        "colab": {
          "base_uri": "https://localhost:8080/"
        },
        "id": "qSwXZOW2swxv",
        "outputId": "3b381189-9b3a-4726-dd4c-f68cad8b1a2b"
      },
      "id": "qSwXZOW2swxv",
      "execution_count": null,
      "outputs": [
        {
          "output_type": "execute_result",
          "data": {
            "text/plain": [
              "(724, 257, 646)"
            ]
          },
          "metadata": {},
          "execution_count": 21
        }
      ]
    },
    {
      "cell_type": "code",
      "execution_count": null,
      "id": "e48c0daf",
      "metadata": {
        "id": "e48c0daf"
      },
      "outputs": [],
      "source": [
        "# def normalizeXX(eg_array):\n",
        "#     normed = (eg_array - eg_array.mean(axis=0)) / eg_array.std(axis=0)\n",
        "#     return normed"
      ]
    },
    {
      "cell_type": "code",
      "execution_count": null,
      "id": "22c75cc4",
      "metadata": {
        "id": "22c75cc4"
      },
      "outputs": [],
      "source": [
        "epochs = 50\n",
        "num_classes = 6\n",
        "batches = 64"
      ]
    },
    {
      "cell_type": "code",
      "source": [
        "# y_train = np.expand_dims(y_train, axis = 0)\n",
        "# y_test = np.expand_dims(y_test, axis = 0)"
      ],
      "metadata": {
        "id": "GZhJ0EV-Bvwr"
      },
      "id": "GZhJ0EV-Bvwr",
      "execution_count": null,
      "outputs": []
    },
    {
      "cell_type": "code",
      "execution_count": null,
      "id": "f1e53eea",
      "metadata": {
        "colab": {
          "base_uri": "https://localhost:8080/"
        },
        "id": "f1e53eea",
        "outputId": "bc51afc7-0a63-42e3-a64d-3a9e866eea00"
      },
      "outputs": [
        {
          "output_type": "stream",
          "name": "stdout",
          "text": [
            "Model: \"model\"\n",
            "_________________________________________________________________\n",
            " Layer (type)                Output Shape              Param #   \n",
            "=================================================================\n",
            " input_1 (InputLayer)        [(None, 257, 646, 1)]     0         \n",
            "                                                                 \n",
            " conv2d (Conv2D)             (None, 257, 646, 16)      160       \n",
            "                                                                 \n",
            " batch_normalization (BatchN  (None, 257, 646, 16)     64        \n",
            " ormalization)                                                   \n",
            "                                                                 \n",
            " activation (Activation)     (None, 257, 646, 16)      0         \n",
            "                                                                 \n",
            " max_pooling2d (MaxPooling2D  (None, 128, 646, 16)     0         \n",
            " )                                                               \n",
            "                                                                 \n",
            " conv2d_1 (Conv2D)           (None, 128, 646, 32)      4640      \n",
            "                                                                 \n",
            " batch_normalization_1 (Batc  (None, 128, 646, 32)     128       \n",
            " hNormalization)                                                 \n",
            "                                                                 \n",
            " activation_1 (Activation)   (None, 128, 646, 32)      0         \n",
            "                                                                 \n",
            " max_pooling2d_1 (MaxPooling  (None, 64, 646, 32)      0         \n",
            " 2D)                                                             \n",
            "                                                                 \n",
            " flatten (Flatten)           (None, 1323008)           0         \n",
            "                                                                 \n",
            " dense (Dense)               (None, 6)                 7938054   \n",
            "                                                                 \n",
            "=================================================================\n",
            "Total params: 7,943,046\n",
            "Trainable params: 7,942,950\n",
            "Non-trainable params: 96\n",
            "_________________________________________________________________\n",
            "None\n"
          ]
        }
      ],
      "source": [
        "visible = Input(shape=(257, 646,1))\n",
        "conv1 = Conv2D(16, kernel_size=(3,3), padding = 'same')(visible)\n",
        "conv1 = BatchNormalization()(conv1)\n",
        "conv1 = Activation('relu')(conv1)\n",
        "pool1 = MaxPooling2D(pool_size=(2, 1))(conv1)\n",
        "conv2 = Conv2D(32, kernel_size=(3,3), activation='relu', padding = 'same')(pool1)\n",
        "conv2 = BatchNormalization()(conv2)\n",
        "conv2 = Activation('relu')(conv2)\n",
        "pool2 = MaxPooling2D(pool_size=(2, 1))(conv2)\n",
        "\n",
        "pool3 = Flatten()(pool2)\n",
        "\n",
        "# pool3 = Dense(64, activation='relu')(pool3)\n",
        "output = Dense(num_classes, activation='softmax')(pool3)\n",
        "model = Model(inputs=visible, outputs=output)\n",
        "\n",
        "\n",
        "print(model.summary())\n"
      ]
    },
    {
      "cell_type": "code",
      "source": [
        "y_train[0]"
      ],
      "metadata": {
        "colab": {
          "base_uri": "https://localhost:8080/"
        },
        "id": "VoPNKnLnrUDG",
        "outputId": "e9cc82fe-7bf4-4363-dab9-fef9aa85cdca"
      },
      "id": "VoPNKnLnrUDG",
      "execution_count": null,
      "outputs": [
        {
          "output_type": "execute_result",
          "data": {
            "text/plain": [
              "array([0, 0, 1, 0, 0, 0], dtype=uint8)"
            ]
          },
          "metadata": {},
          "execution_count": 26
        }
      ]
    },
    {
      "cell_type": "code",
      "execution_count": null,
      "id": "f2e54f4e",
      "metadata": {
        "id": "f2e54f4e"
      },
      "outputs": [],
      "source": [
        "model.compile(loss='categorical_crossentropy', optimizer='adam', metrics=['accuracy'])"
      ]
    },
    {
      "cell_type": "code",
      "source": [
        "history=model.fit(x=tf.convert_to_tensor(np.float32(x_train)), y=tf.convert_to_tensor(np.float32(y_train)), validation_split = 0.10, batch_size=batches, epochs=epochs)"
      ],
      "metadata": {
        "colab": {
          "base_uri": "https://localhost:8080/"
        },
        "id": "vFi2f-7Rq_3O",
        "outputId": "2a1db57a-43eb-4417-bdb8-a24098847f27"
      },
      "id": "vFi2f-7Rq_3O",
      "execution_count": null,
      "outputs": [
        {
          "output_type": "stream",
          "name": "stdout",
          "text": [
            "Epoch 1/50\n",
            "11/11 [==============================] - 15s 378ms/step - loss: 86.9231 - accuracy: 0.7419 - val_loss: 2053.6545 - val_accuracy: 0.9041\n",
            "Epoch 2/50\n",
            "11/11 [==============================] - 3s 291ms/step - loss: 42.3434 - accuracy: 0.7926 - val_loss: 1949.1168 - val_accuracy: 0.9041\n",
            "Epoch 3/50\n",
            "11/11 [==============================] - 3s 290ms/step - loss: 22.8978 - accuracy: 0.8556 - val_loss: 1326.4293 - val_accuracy: 0.9041\n",
            "Epoch 4/50\n",
            "11/11 [==============================] - 3s 289ms/step - loss: 11.3607 - accuracy: 0.8909 - val_loss: 1076.4664 - val_accuracy: 0.9041\n",
            "Epoch 5/50\n",
            "11/11 [==============================] - 3s 291ms/step - loss: 6.8785 - accuracy: 0.8971 - val_loss: 917.8400 - val_accuracy: 0.9041\n",
            "Epoch 6/50\n",
            "11/11 [==============================] - 3s 292ms/step - loss: 2.4855 - accuracy: 0.9585 - val_loss: 797.1000 - val_accuracy: 0.9041\n",
            "Epoch 7/50\n",
            "11/11 [==============================] - 3s 292ms/step - loss: 1.3282 - accuracy: 0.9647 - val_loss: 649.9518 - val_accuracy: 0.9041\n",
            "Epoch 8/50\n",
            "11/11 [==============================] - 3s 291ms/step - loss: 0.7540 - accuracy: 0.9693 - val_loss: 539.8896 - val_accuracy: 0.9041\n",
            "Epoch 9/50\n",
            "11/11 [==============================] - 3s 293ms/step - loss: 0.3634 - accuracy: 0.9800 - val_loss: 464.1569 - val_accuracy: 0.9041\n",
            "Epoch 10/50\n",
            "11/11 [==============================] - 3s 294ms/step - loss: 0.0811 - accuracy: 0.9908 - val_loss: 400.3859 - val_accuracy: 0.9041\n",
            "Epoch 11/50\n",
            "11/11 [==============================] - 3s 292ms/step - loss: 0.0283 - accuracy: 0.9969 - val_loss: 346.9867 - val_accuracy: 0.9041\n",
            "Epoch 12/50\n",
            "11/11 [==============================] - 3s 292ms/step - loss: 0.1749 - accuracy: 0.9892 - val_loss: 308.1783 - val_accuracy: 0.9041\n",
            "Epoch 13/50\n",
            "11/11 [==============================] - 3s 294ms/step - loss: 0.1361 - accuracy: 0.9892 - val_loss: 262.2160 - val_accuracy: 0.9041\n",
            "Epoch 14/50\n",
            "11/11 [==============================] - 3s 294ms/step - loss: 0.1297 - accuracy: 0.9908 - val_loss: 230.9783 - val_accuracy: 0.9041\n",
            "Epoch 15/50\n",
            "11/11 [==============================] - 3s 295ms/step - loss: 0.0264 - accuracy: 0.9969 - val_loss: 198.2926 - val_accuracy: 0.9041\n",
            "Epoch 16/50\n",
            "11/11 [==============================] - 3s 296ms/step - loss: 0.0000e+00 - accuracy: 1.0000 - val_loss: 170.5214 - val_accuracy: 0.9041\n",
            "Epoch 17/50\n",
            "11/11 [==============================] - 3s 294ms/step - loss: 5.4935e-10 - accuracy: 1.0000 - val_loss: 146.4720 - val_accuracy: 0.9041\n",
            "Epoch 18/50\n",
            "11/11 [==============================] - 3s 299ms/step - loss: 3.2961e-09 - accuracy: 1.0000 - val_loss: 125.1160 - val_accuracy: 0.9041\n",
            "Epoch 19/50\n",
            "11/11 [==============================] - 3s 295ms/step - loss: 1.8312e-10 - accuracy: 1.0000 - val_loss: 106.8130 - val_accuracy: 0.9041\n",
            "Epoch 20/50\n",
            "11/11 [==============================] - 3s 296ms/step - loss: 3.1130e-09 - accuracy: 1.0000 - val_loss: 91.7711 - val_accuracy: 0.9041\n",
            "Epoch 21/50\n",
            "11/11 [==============================] - 3s 295ms/step - loss: 3.1130e-08 - accuracy: 1.0000 - val_loss: 78.3075 - val_accuracy: 0.9041\n",
            "Epoch 22/50\n",
            "11/11 [==============================] - 3s 294ms/step - loss: 2.3805e-09 - accuracy: 1.0000 - val_loss: 66.5817 - val_accuracy: 0.9041\n",
            "Epoch 23/50\n",
            "11/11 [==============================] - 3s 294ms/step - loss: 4.9442e-09 - accuracy: 1.0000 - val_loss: 56.3980 - val_accuracy: 0.9041\n",
            "Epoch 24/50\n",
            "11/11 [==============================] - 3s 293ms/step - loss: 1.5016e-08 - accuracy: 1.0000 - val_loss: 48.0109 - val_accuracy: 0.9041\n",
            "Epoch 25/50\n",
            "11/11 [==============================] - 3s 295ms/step - loss: 5.4935e-10 - accuracy: 1.0000 - val_loss: 40.7764 - val_accuracy: 0.9041\n",
            "Epoch 26/50\n",
            "11/11 [==============================] - 3s 294ms/step - loss: 6.7753e-09 - accuracy: 1.0000 - val_loss: 34.6165 - val_accuracy: 0.8904\n",
            "Epoch 27/50\n",
            "11/11 [==============================] - 3s 293ms/step - loss: 2.5636e-08 - accuracy: 1.0000 - val_loss: 29.5900 - val_accuracy: 0.8904\n",
            "Epoch 28/50\n",
            "11/11 [==============================] - 3s 294ms/step - loss: 1.8312e-09 - accuracy: 1.0000 - val_loss: 25.0702 - val_accuracy: 0.8904\n",
            "Epoch 29/50\n",
            "11/11 [==============================] - 3s 294ms/step - loss: 1.2818e-09 - accuracy: 1.0000 - val_loss: 21.1047 - val_accuracy: 0.8904\n",
            "Epoch 30/50\n",
            "11/11 [==============================] - 3s 292ms/step - loss: 4.5779e-09 - accuracy: 1.0000 - val_loss: 17.8230 - val_accuracy: 0.8904\n",
            "Epoch 31/50\n",
            "11/11 [==============================] - 3s 292ms/step - loss: 3.6623e-09 - accuracy: 1.0000 - val_loss: 15.6253 - val_accuracy: 0.8904\n",
            "Epoch 32/50\n",
            "11/11 [==============================] - 3s 302ms/step - loss: 1.2269e-08 - accuracy: 1.0000 - val_loss: 13.9368 - val_accuracy: 0.8904\n",
            "Epoch 33/50\n",
            "11/11 [==============================] - 3s 292ms/step - loss: 2.0143e-09 - accuracy: 1.0000 - val_loss: 12.6921 - val_accuracy: 0.8904\n",
            "Epoch 34/50\n",
            "11/11 [==============================] - 3s 292ms/step - loss: 2.5636e-09 - accuracy: 1.0000 - val_loss: 11.6456 - val_accuracy: 0.8904\n",
            "Epoch 35/50\n",
            "11/11 [==============================] - 3s 292ms/step - loss: 2.4171e-08 - accuracy: 1.0000 - val_loss: 11.2969 - val_accuracy: 0.8630\n",
            "Epoch 36/50\n",
            "11/11 [==============================] - 3s 293ms/step - loss: 8.9727e-09 - accuracy: 1.0000 - val_loss: 11.5727 - val_accuracy: 0.8493\n",
            "Epoch 37/50\n",
            "11/11 [==============================] - 3s 292ms/step - loss: 2.4171e-08 - accuracy: 1.0000 - val_loss: 11.8180 - val_accuracy: 0.8493\n",
            "Epoch 38/50\n",
            "11/11 [==============================] - 3s 292ms/step - loss: 2.9665e-08 - accuracy: 1.0000 - val_loss: 12.0885 - val_accuracy: 0.8493\n",
            "Epoch 39/50\n",
            "11/11 [==============================] - 3s 294ms/step - loss: 1.3368e-08 - accuracy: 1.0000 - val_loss: 12.4050 - val_accuracy: 0.8493\n",
            "Epoch 40/50\n",
            "11/11 [==============================] - 3s 293ms/step - loss: 1.0987e-08 - accuracy: 1.0000 - val_loss: 12.8940 - val_accuracy: 0.8630\n",
            "Epoch 41/50\n",
            "11/11 [==============================] - 3s 293ms/step - loss: 2.6735e-08 - accuracy: 1.0000 - val_loss: 13.2987 - val_accuracy: 0.8630\n",
            "Epoch 42/50\n",
            "11/11 [==============================] - 3s 293ms/step - loss: 1.4649e-09 - accuracy: 1.0000 - val_loss: 13.7493 - val_accuracy: 0.8630\n",
            "Epoch 43/50\n",
            "11/11 [==============================] - 3s 293ms/step - loss: 5.3104e-09 - accuracy: 1.0000 - val_loss: 14.1541 - val_accuracy: 0.8767\n",
            "Epoch 44/50\n",
            "11/11 [==============================] - 3s 294ms/step - loss: 4.2117e-09 - accuracy: 1.0000 - val_loss: 14.6062 - val_accuracy: 0.8767\n",
            "Epoch 45/50\n",
            "11/11 [==============================] - 3s 293ms/step - loss: 9.1559e-10 - accuracy: 1.0000 - val_loss: 15.0430 - val_accuracy: 0.8767\n",
            "Epoch 46/50\n",
            "11/11 [==============================] - 3s 293ms/step - loss: 1.6481e-09 - accuracy: 1.0000 - val_loss: 15.4669 - val_accuracy: 0.8767\n",
            "Epoch 47/50\n",
            "11/11 [==============================] - 3s 293ms/step - loss: 2.5636e-09 - accuracy: 1.0000 - val_loss: 15.8368 - val_accuracy: 0.8767\n",
            "Epoch 48/50\n",
            "11/11 [==============================] - 3s 295ms/step - loss: 9.1559e-10 - accuracy: 1.0000 - val_loss: 16.1474 - val_accuracy: 0.8767\n",
            "Epoch 49/50\n",
            "11/11 [==============================] - 3s 293ms/step - loss: 4.3398e-08 - accuracy: 1.0000 - val_loss: 16.4857 - val_accuracy: 0.8767\n",
            "Epoch 50/50\n",
            "11/11 [==============================] - 3s 293ms/step - loss: 4.4680e-08 - accuracy: 1.0000 - val_loss: 16.8062 - val_accuracy: 0.8767\n"
          ]
        }
      ]
    },
    {
      "cell_type": "code",
      "source": [
        "x_test.shape, y_test.shape"
      ],
      "metadata": {
        "colab": {
          "base_uri": "https://localhost:8080/"
        },
        "id": "5my2Kv6KCia5",
        "outputId": "39621bf7-3376-44e4-c90e-4947eed3b4b4"
      },
      "id": "5my2Kv6KCia5",
      "execution_count": null,
      "outputs": [
        {
          "output_type": "execute_result",
          "data": {
            "text/plain": [
              "((182, 257, 646), (182, 6))"
            ]
          },
          "metadata": {},
          "execution_count": 29
        }
      ]
    },
    {
      "cell_type": "code",
      "execution_count": null,
      "id": "d3e1b432",
      "metadata": {
        "colab": {
          "base_uri": "https://localhost:8080/",
          "height": 405
        },
        "id": "d3e1b432",
        "outputId": "4f1714d4-e065-415c-9c10-adcffffcd969"
      },
      "outputs": [
        {
          "output_type": "stream",
          "name": "stdout",
          "text": [
            "Accuracy: 81%\n",
            "Loss: 22.0292\n",
            "\n"
          ]
        },
        {
          "output_type": "execute_result",
          "data": {
            "text/plain": [
              "<matplotlib.legend.Legend at 0x7f710a479340>"
            ]
          },
          "metadata": {},
          "execution_count": 30
        },
        {
          "output_type": "display_data",
          "data": {
            "text/plain": [
              "<Figure size 1080x360 with 2 Axes>"
            ],
            "image/png": "[encoded data removed]"
          },
          "metadata": {
            "needs_background": "light"
          }
        }
      ],
      "source": [
        "score = model.evaluate(np.float32(x_test), np.float32(y_test), verbose=0)\n",
        "print('Accuracy: {0:.0%}'.format(score[1]/1))\n",
        "print(\"Loss: %.4f\\n\" % score[0])\n",
        "\n",
        "# Plot accuracy and loss graphs\n",
        "plt.figure(figsize = (15,5))\n",
        "plt.subplot(1,2,1)\n",
        "plt.title('Accuracy')\n",
        "plt.plot(history.history['accuracy'], label = 'training acc')\n",
        "plt.plot(history.history['val_accuracy'], label = 'validation acc')\n",
        "plt.legend()\n",
        "\n",
        "plt.subplot(1,2,2)\n",
        "plt.title('Loss')\n",
        "plt.plot(history.history['loss'], label = 'training loss')\n",
        "plt.plot(history.history['val_loss'], label = 'validation loss')\n",
        "plt.legend()"
      ]
    },
    {
      "cell_type": "code",
      "source": [
        "from sklearn.metrics import classification_report\n",
        "\n",
        "y_pred = model.predict(np.float32(x_test), verbose=1)\n",
        "y_pred_bool = np.argmax(np.float32(y_pred), axis=1)\n",
        "\n",
        "print(classification_report(np.argmax(np.float32(y_test),axis=1), y_pred_bool))"
      ],
      "metadata": {
        "colab": {
          "base_uri": "https://localhost:8080/"
        },
        "id": "GziNdKzRvoru",
        "outputId": "ae2dcb94-632a-4c75-a8c1-3ede3b7fa96f"
      },
      "id": "GziNdKzRvoru",
      "execution_count": null,
      "outputs": [
        {
          "output_type": "stream",
          "name": "stdout",
          "text": [
            "6/6 [==============================] - 0s 41ms/step\n",
            "              precision    recall  f1-score   support\n",
            "\n",
            "           0       0.00      0.00      0.00         6\n",
            "           1       0.00      0.00      0.00         3\n",
            "           2       0.86      0.96      0.91       152\n",
            "           3       0.00      0.00      0.00        10\n",
            "           4       0.50      0.50      0.50         4\n",
            "           5       0.00      0.00      0.00         7\n",
            "\n",
            "    accuracy                           0.81       182\n",
            "   macro avg       0.23      0.24      0.23       182\n",
            "weighted avg       0.73      0.81      0.77       182\n",
            "\n"
          ]
        },
        {
          "output_type": "stream",
          "name": "stderr",
          "text": [
            "/usr/local/lib/python3.8/dist-packages/sklearn/metrics/_classification.py:1318: UndefinedMetricWarning: Precision and F-score are ill-defined and being set to 0.0 in labels with no predicted samples. Use `zero_division` parameter to control this behavior.\n",
            "  _warn_prf(average, modifier, msg_start, len(result))\n",
            "/usr/local/lib/python3.8/dist-packages/sklearn/metrics/_classification.py:1318: UndefinedMetricWarning: Precision and F-score are ill-defined and being set to 0.0 in labels with no predicted samples. Use `zero_division` parameter to control this behavior.\n",
            "  _warn_prf(average, modifier, msg_start, len(result))\n",
            "/usr/local/lib/python3.8/dist-packages/sklearn/metrics/_classification.py:1318: UndefinedMetricWarning: Precision and F-score are ill-defined and being set to 0.0 in labels with no predicted samples. Use `zero_division` parameter to control this behavior.\n",
            "  _warn_prf(average, modifier, msg_start, len(result))\n"
          ]
        }
      ]
    },
    {
      "cell_type": "code",
      "source": [],
      "metadata": {
        "id": "MzRCV4vIxqCN"
      },
      "id": "MzRCV4vIxqCN",
      "execution_count": null,
      "outputs": []
    }
  ],
  "metadata": {
    "kernelspec": {
      "display_name": "Python 3 (ipykernel)",
      "language": "python",
      "name": "python3"
    },
    "language_info": {
      "codemirror_mode": {
        "name": "ipython",
        "version": 3
      },
      "file_extension": ".py",
      "mimetype": "text/x-python",
      "name": "python",
      "nbconvert_exporter": "python",
      "pygments_lexer": "ipython3",
      "version": "3.10.5"
    },
    "colab": {
      "provenance": []
    },
    "accelerator": "GPU",
    "gpuClass": "standard"
  },
  "nbformat": 4,
  "nbformat_minor": 5
}